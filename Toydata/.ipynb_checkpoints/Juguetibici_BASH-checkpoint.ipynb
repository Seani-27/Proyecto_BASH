{
 "cells": [
  {
   "cell_type": "code",
   "execution_count": 6,
   "id": "da232f2b",
   "metadata": {
    "scrolled": true
   },
   "outputs": [],
   "source": [
    "import pandas as pd\n",
    "from urllib.request import urlopen\n",
    "import urllib.request\n",
    "import requests\n",
    "import time \n",
    "from multiprocessing import Process, Queue, Pool\n",
    "import threading\n",
    "import sys\n",
    "import numpy as np\n",
    "import re\n",
    "from datetime import datetime\n",
    "#from random_user_agent.user_agent import UserAgent\n",
    "#from random_user_agent.params import SoftwareName, OperatingSystem\n",
    "from selenium import webdriver\n",
    "from selenium.webdriver.common.keys import Keys\n",
    "from selenium.webdriver.common.by import By\n",
    "#from fake_useragent import UserAgent\n",
    "from selenium.webdriver.chrome.options import Options\n",
    "import pandasql as ps\n",
    "from IPython.display import display,HTML"
   ]
  },
  {
   "cell_type": "code",
   "execution_count": 69,
   "id": "93e9ae75",
   "metadata": {},
   "outputs": [],
   "source": [
    "driver = webdriver.Chrome(\"C:\\Windows\\chromedriver.exe\")\n",
    "juguete = \"Barbie\"\n",
    "url_1=\"https://juguetibici.com/search?q=\"+juguete+\"&type=product\"\n",
    "driver.get(url_1)"
   ]
  },
  {
   "cell_type": "code",
   "execution_count": 36,
   "id": "97bd04d4",
   "metadata": {},
   "outputs": [
    {
     "name": "stdout",
     "output_type": "stream",
     "text": [
      "OFERTA\n",
      "BARBIE FOOD TRUCK GMW07\n",
      "$ 1,419.00 $ 993.30\n"
     ]
    }
   ],
   "source": [
    "productos=driver.find_elements_by_class_name(\"product-container\")\n",
    "print(productos[0].text)"
   ]
  },
  {
   "cell_type": "code",
   "execution_count": 39,
   "id": "05533db8",
   "metadata": {},
   "outputs": [
    {
     "name": "stdout",
     "output_type": "stream",
     "text": [
      "12\n"
     ]
    }
   ],
   "source": [
    "list_urls=[]\n",
    "for i in range(0,len(productos)):   \n",
    "    list_urls.append(productos[i].find_element_by_tag_name(\"a\").get_attribute(\"href\"))\n",
    "print(len(list_urls))"
   ]
  },
  {
   "cell_type": "code",
   "execution_count": 40,
   "id": "0bf97ed2",
   "metadata": {},
   "outputs": [
    {
     "name": "stdout",
     "output_type": "stream",
     "text": [
      "12\n",
      "['https://juguetibici.com/products/barbie-food-truck-gmw07?_pos=1&_sid=b077f8a12&_ss=r', 'https://juguetibici.com/products/barbie-fashionista-barbie-extra-deluxe-vestido-violeta-gyj69?_pos=2&_sid=b077f8a12&_ss=r', 'https://juguetibici.com/products/bundle-barbie-dia-de-muertos-2022-barbie-ken?_pos=3&_sid=b077f8a12&_ss=r', 'https://juguetibici.com/products/barbie-casa-malibu-2022-hcd50?_pos=4&_sid=b077f8a12&_ss=r', 'https://juguetibici.com/products/barbie-movimientos-sin-limites-gxf05?_pos=5&_sid=b077f8a12&_ss=r', 'https://juguetibici.com/products/barbie-santa-claus-rubia-hjg72?_pos=6&_sid=b077f8a12&_ss=r', 'https://juguetibici.com/products/barbie-nueva-casa-de-los-suenos-2021-grg93?_pos=7&_sid=b077f8a12&_ss=r', 'https://juguetibici.com/products/barbie-restaurante-con-muneca-hbb91?_pos=8&_sid=b077f8a12&_ss=r', 'https://juguetibici.com/products/barbie-dha-barbie-malibu-dia-de-campamento-hdf73?_pos=9&_sid=b077f8a12&_ss=r', 'https://juguetibici.com/products/barbie-mermaid-power-sirena-malibu-hhg52?_pos=10&_sid=b077f8a12&_ss=r', 'https://juguetibici.com/products/barbie-fashionistas-171-grb62?_pos=11&_sid=b077f8a12&_ss=r', 'https://juguetibici.com/products/barbie-looks-morena-cabello-rojo-hcb77?_pos=12&_sid=b077f8a12&_ss=r']\n"
     ]
    }
   ],
   "source": [
    "\n",
    "list_urls=[]\n",
    "productos=driver.find_elements_by_class_name(\"product-container\")\n",
    "time.sleep(5)\n",
    "for i in range(0,len(productos)):\n",
    "#print(i)\n",
    "    try:\n",
    "        list_urls.append(productos[i].find_element_by_tag_name(\"a\").get_attribute(\"href\"))\n",
    "    except:\n",
    "        list_urls.append(np.nan)\n",
    "time.sleep(5)\n",
    "#driver.find_elements_by_class_name(\"ui_button.nav.next.primary\")[0].click()\n",
    "#time.sleep(5)\n",
    "\n",
    "list_urls = [i for i in list_urls if str(i) != \"nan\"]          \n",
    "print(len(list_urls))\n",
    "print(list_urls)"
   ]
  },
  {
   "cell_type": "code",
   "execution_count": 61,
   "id": "ba1fdc4f",
   "metadata": {},
   "outputs": [
    {
     "name": "stdout",
     "output_type": "stream",
     "text": [
      "0\n",
      "[]\n"
     ]
    }
   ],
   "source": [
    "productos=driver.find_elements_by_class_name(\"product-container\")\n",
    "list_marca = []\n",
    "for i in range(0,len(productos)):\n",
    "    #try:\n",
    "    list_marca.append(driver.find_elements(By.CLASS_NAME,\"product-name\")[0].text)\n",
    "    \n",
    "    #except:\n",
    "     #   list_marca.append(np.nan)\n",
    "            \n",
    "print(len(list_marca))\n",
    "print(list_marca)   "
   ]
  },
  {
   "cell_type": "code",
   "execution_count": 65,
   "id": "4c9f7259",
   "metadata": {},
   "outputs": [
    {
     "name": "stdout",
     "output_type": "stream",
     "text": [
      "['1,419.00', '995.00', '3,399.00', '2,799.00', '425.00', '435.00', '4,999.00', '1,819.00', '549.00', '549.00', '345.00', '749.00']\n"
     ]
    }
   ],
   "source": [
    "lista_precio=[]\n",
    "for j in list_urls:\n",
    "    driver.get(j)\n",
    "    time.sleep(8)\n",
    "    try:\n",
    "        try:\n",
    "            lista_precio.append(driver.find_elements(By.CLASS_NAME, \"product-compare-price\")[0].text.replace(\"$\",\"\").replace(\"'\",\"\").replace(\"'\",\"\"))\n",
    "        except:\n",
    "            lista_precio.append(driver.find_elements(By.CLASS_NAME, \"product-price\")[0].text.replace(\"$\",\"\").replace(\"'\",\"\").replace(\"'\",\"\"))\n",
    "    except:\n",
    "        lista_precio.append(np.nan)\n",
    "print(lista_precio)   \n"
   ]
  },
  {
   "cell_type": "code",
   "execution_count": 80,
   "id": "12e07321",
   "metadata": {},
   "outputs": [
    {
     "data": {
      "text/plain": [
       "['https://cdn.shopify.com/s/files/1/0888/4916/products/MAT8357_001_grande.jpg?v=1623338287',\n",
       " 'https://cdn.shopify.com/s/files/1/0888/4916/products/MAT8979_001_grande.jpg?v=1638392057',\n",
       " 'https://cdn.shopify.com/s/files/1/0888/4916/products/MAT9994_001_grande.jpg?v=1666116085',\n",
       " 'https://cdn.shopify.com/s/files/1/0888/4916/products/MAT9933_001_grande.jpg?v=1660333341',\n",
       " 'https://cdn.shopify.com/s/files/1/0888/4916/products/MAT9422_001_grande.jpg?v=1645034375',\n",
       " 'https://cdn.shopify.com/s/files/1/0888/4916/products/MAT9934_005_grande.jpg?v=1666131102',\n",
       " 'https://cdn.shopify.com/s/files/1/0888/4916/products/MAT8950_001_grande.jpg?v=1624470657',\n",
       " 'https://cdn.shopify.com/s/files/1/0888/4916/products/MAT8953_001_grande.jpg?v=1624734033',\n",
       " 'https://cdn.shopify.com/s/files/1/0888/4916/products/MAT9480_003_grande.jpg?v=1648681089',\n",
       " 'https://cdn.shopify.com/s/files/1/0888/4916/products/MAT9925_001_grande.jpg?v=1660670663',\n",
       " 'https://cdn.shopify.com/s/files/1/0888/4916/products/MAT6536_049_06bbb7ff-25d9-485d-90f2-b663a67dd5b9_grande.jpg?v=1657319575',\n",
       " 'https://cdn.shopify.com/s/files/1/0888/4916/products/MAT9866_001_grande.jpg?v=1665445904']"
      ]
     },
     "execution_count": 80,
     "metadata": {},
     "output_type": "execute_result"
    }
   ],
   "source": [
    "productos=driver.find_elements_by_class_name(\"product-container\")\n",
    "list_urlim = []\n",
    "for i in range(0,len(productos)):\n",
    "    try:\n",
    "        list_urlim.append(productos[i].find_element_by_tag_name(\"img\").get_attribute(\"src\"))\n",
    "    except:\n",
    "        list_urlim.append(np.nan)\n",
    "            \n",
    "list_urlim"
   ]
  },
  {
   "cell_type": "code",
   "execution_count": null,
   "id": "337a68d0",
   "metadata": {},
   "outputs": [],
   "source": [
    "df=pd.DataFrame(columns=[\"IMAGEN\"])\n",
    "df[\"IMAGEN\"] = list_urlim\n",
    "def imagen(path):\n",
    "    return '<img src=\"'+ path + '\" width=\"50\" >'\n",
    "display(HTML(df.to_html(escape=False,formatters=dict(IMAGEN=imagen))))"
   ]
  },
  {
   "cell_type": "code",
   "execution_count": 101,
   "id": "66fa3bcb",
   "metadata": {},
   "outputs": [
    {
     "ename": "NoSuchWindowException",
     "evalue": "Message: no such window: target window already closed\nfrom unknown error: web view not found\n  (Session info: chrome=108.0.5359.99)\n",
     "output_type": "error",
     "traceback": [
      "\u001b[1;31m---------------------------------------------------------------------------\u001b[0m",
      "\u001b[1;31mNoSuchWindowException\u001b[0m                     Traceback (most recent call last)",
      "Input \u001b[1;32mIn [101]\u001b[0m, in \u001b[0;36m<cell line: 3>\u001b[1;34m()\u001b[0m\n\u001b[0;32m      1\u001b[0m lista_precio_prom\u001b[38;5;241m=\u001b[39m[]\n\u001b[0;32m      3\u001b[0m \u001b[38;5;28;01mfor\u001b[39;00m j \u001b[38;5;129;01min\u001b[39;00m list_urls:\n\u001b[1;32m----> 4\u001b[0m     \u001b[43mdriver\u001b[49m\u001b[38;5;241;43m.\u001b[39;49m\u001b[43mget\u001b[49m\u001b[43m(\u001b[49m\u001b[43mj\u001b[49m\u001b[43m)\u001b[49m\n\u001b[0;32m      5\u001b[0m     time\u001b[38;5;241m.\u001b[39msleep(\u001b[38;5;241m8\u001b[39m)\n\u001b[0;32m      6\u001b[0m     \u001b[38;5;28;01mtry\u001b[39;00m:\n",
      "File \u001b[1;32m~\\AppData\\Roaming\\Python\\Python39\\site-packages\\selenium\\webdriver\\remote\\webdriver.py:333\u001b[0m, in \u001b[0;36mWebDriver.get\u001b[1;34m(self, url)\u001b[0m\n\u001b[0;32m    329\u001b[0m \u001b[38;5;28;01mdef\u001b[39;00m \u001b[38;5;21mget\u001b[39m(\u001b[38;5;28mself\u001b[39m, url):\n\u001b[0;32m    330\u001b[0m     \u001b[38;5;124;03m\"\"\"\u001b[39;00m\n\u001b[0;32m    331\u001b[0m \u001b[38;5;124;03m    Loads a web page in the current browser session.\u001b[39;00m\n\u001b[0;32m    332\u001b[0m \u001b[38;5;124;03m    \"\"\"\u001b[39;00m\n\u001b[1;32m--> 333\u001b[0m     \u001b[38;5;28;43mself\u001b[39;49m\u001b[38;5;241;43m.\u001b[39;49m\u001b[43mexecute\u001b[49m\u001b[43m(\u001b[49m\u001b[43mCommand\u001b[49m\u001b[38;5;241;43m.\u001b[39;49m\u001b[43mGET\u001b[49m\u001b[43m,\u001b[49m\u001b[43m \u001b[49m\u001b[43m{\u001b[49m\u001b[38;5;124;43m'\u001b[39;49m\u001b[38;5;124;43murl\u001b[39;49m\u001b[38;5;124;43m'\u001b[39;49m\u001b[43m:\u001b[49m\u001b[43m \u001b[49m\u001b[43murl\u001b[49m\u001b[43m}\u001b[49m\u001b[43m)\u001b[49m\n",
      "File \u001b[1;32m~\\AppData\\Roaming\\Python\\Python39\\site-packages\\selenium\\webdriver\\remote\\webdriver.py:321\u001b[0m, in \u001b[0;36mWebDriver.execute\u001b[1;34m(self, driver_command, params)\u001b[0m\n\u001b[0;32m    319\u001b[0m response \u001b[38;5;241m=\u001b[39m \u001b[38;5;28mself\u001b[39m\u001b[38;5;241m.\u001b[39mcommand_executor\u001b[38;5;241m.\u001b[39mexecute(driver_command, params)\n\u001b[0;32m    320\u001b[0m \u001b[38;5;28;01mif\u001b[39;00m response:\n\u001b[1;32m--> 321\u001b[0m     \u001b[38;5;28;43mself\u001b[39;49m\u001b[38;5;241;43m.\u001b[39;49m\u001b[43merror_handler\u001b[49m\u001b[38;5;241;43m.\u001b[39;49m\u001b[43mcheck_response\u001b[49m\u001b[43m(\u001b[49m\u001b[43mresponse\u001b[49m\u001b[43m)\u001b[49m\n\u001b[0;32m    322\u001b[0m     response[\u001b[38;5;124m'\u001b[39m\u001b[38;5;124mvalue\u001b[39m\u001b[38;5;124m'\u001b[39m] \u001b[38;5;241m=\u001b[39m \u001b[38;5;28mself\u001b[39m\u001b[38;5;241m.\u001b[39m_unwrap_value(\n\u001b[0;32m    323\u001b[0m         response\u001b[38;5;241m.\u001b[39mget(\u001b[38;5;124m'\u001b[39m\u001b[38;5;124mvalue\u001b[39m\u001b[38;5;124m'\u001b[39m, \u001b[38;5;28;01mNone\u001b[39;00m))\n\u001b[0;32m    324\u001b[0m     \u001b[38;5;28;01mreturn\u001b[39;00m response\n",
      "File \u001b[1;32m~\\AppData\\Roaming\\Python\\Python39\\site-packages\\selenium\\webdriver\\remote\\errorhandler.py:242\u001b[0m, in \u001b[0;36mErrorHandler.check_response\u001b[1;34m(self, response)\u001b[0m\n\u001b[0;32m    240\u001b[0m         alert_text \u001b[38;5;241m=\u001b[39m value[\u001b[38;5;124m'\u001b[39m\u001b[38;5;124malert\u001b[39m\u001b[38;5;124m'\u001b[39m]\u001b[38;5;241m.\u001b[39mget(\u001b[38;5;124m'\u001b[39m\u001b[38;5;124mtext\u001b[39m\u001b[38;5;124m'\u001b[39m)\n\u001b[0;32m    241\u001b[0m     \u001b[38;5;28;01mraise\u001b[39;00m exception_class(message, screen, stacktrace, alert_text)\n\u001b[1;32m--> 242\u001b[0m \u001b[38;5;28;01mraise\u001b[39;00m exception_class(message, screen, stacktrace)\n",
      "\u001b[1;31mNoSuchWindowException\u001b[0m: Message: no such window: target window already closed\nfrom unknown error: web view not found\n  (Session info: chrome=108.0.5359.99)\n"
     ]
    }
   ],
   "source": [
    "lista_precio_prom=[]\n",
    "\n",
    "for j in list_urls:\n",
    "    driver.get(j)\n",
    "    time.sleep(8)\n",
    "    try:\n",
    "        lista_precio_prom.append(driver.find_elements(By.CLASS_NAME, \"product-price.on-sale\")[0].text.replace(\"$\",\"\").replace(\"'\",\"\").replace(\"'\",\"\"))\n",
    "        \n",
    "    except:\n",
    "        lista_precio_prom.append(np.nan)\n",
    "print(lista_precio_prom)"
   ]
  },
  {
   "cell_type": "code",
   "execution_count": 53,
   "id": "7d8a9c4b",
   "metadata": {},
   "outputs": [
    {
     "name": "stdout",
     "output_type": "stream",
     "text": [
      "12\n",
      "['BARBIE FOOD TRUCK GMW07', 'BARBIE RESTAURANTE CON MUÑECA HBB91', 'BARBIE CUTIE REVEAL - LLAMA HJL56', 'BARBIE FASHIONISTA BARBIE EXTRA DELUXE - VESTIDO VIOLETA GYJ69', 'NUEVA BARBIE CASA MALIBU HCD50', 'BUNDLE BARBIE DIA DE MUERTOS 2022 (BARBIE & KEN)', 'BARBIE GUARDERÍA DE PERRITOS FXH08', 'BARBIE NUEVA CASA DE LOS SUEÑOS 2021 GRG93', 'BARBIE DHA BARBIE MALIBU DÍA DE CAMPAMENTO HDF73', 'BARBIE SANTA CLAUS RUBIA HJG72', 'BARBIE MOVIMIENTOS SIN LÍMITES GXF05', 'BARBIE CUTIE REVEAL INVIERNO CIERVO HJM12']\n"
     ]
    }
   ],
   "source": [
    "time.sleep(12)\n",
    "    \n",
    "list_nombres = []\n",
    "for i in range(0,len(productos)):\n",
    "    try:\n",
    "        list_nombres.append(productos[i].find_element_by_class_name(\"product-name\").text)\n",
    "    except:\n",
    "        list_nombres.append(np.nan)\n",
    "            \n",
    "print(len(list_nombres))\n",
    "print(list_nombres)"
   ]
  },
  {
   "cell_type": "code",
   "execution_count": 27,
   "id": "6bf2c3a0",
   "metadata": {},
   "outputs": [],
   "source": [
    "def get_url(juguete):\n",
    "    #juguete = \"Barbie\"\n",
    "    url_1=\"https://juguetibici.com/search?q=\"+juguete+\"&type=product\"\n",
    "    driver.get(url_1)\n",
    "    \n",
    "    time.sleep(12)\n",
    "def get_juguetes():\n",
    "    juguetes=driver.find_elements_by_class_name(\"grid__item.large--one-third.medium--one-third\")\n",
    "    return juguetes\n",
    "\n",
    "time.sleep(12)\n",
    "  \n",
    "def get_urls():\n",
    "    list_urls=[]\n",
    "    productos=driver.find_elements_by_class_name(\"product-container\")\n",
    "    time.sleep(5)\n",
    "    for i in range(0,len(productos)):\n",
    "    #print(i)\n",
    "        try:\n",
    "            list_urls.append(productos[i].find_element_by_tag_name(\"a\").get_attribute(\"href\"))\n",
    "        except:\n",
    "            list_urls.append(np.nan)\n",
    "    time.sleep(5)\n",
    "\n",
    "    list_urls = [i for i in list_urls if str(i) != \"nan\"]          \n",
    "    #print(len(list_urls))\n",
    "    return list_urls\n",
    "\n",
    "time.sleep(12)\n",
    "\n",
    "def get_nombres():\n",
    "    juguetes = get_juguetes()\n",
    "    list_nombres = []\n",
    "    for i in range(0,len(juguetes)):\n",
    "        try:\n",
    "            list_nombres.append(juguetes[i].find_element_by_class_name(\"product-name\").text)\n",
    "        except:\n",
    "            list_nombres.append(np.nan)\n",
    "    #print(len(list_nombres))        \n",
    "    return list_nombres\n",
    "            \n",
    "    \n",
    "    \n",
    "time.sleep(12)\n",
    "def get_precios():\n",
    "    list_urls = get_urls()\n",
    "    list_precios=[]\n",
    "    for j in list_urls:\n",
    "        driver.get(j)\n",
    "        time.sleep(8)\n",
    "        try:\n",
    "            try:\n",
    "                list_precios.append(driver.find_elements(By.CLASS_NAME, \"product-compare-price\")[0].text.replace(\"$\",\"\").replace(\"'\",\"\").replace(\"'\",\"\"))\n",
    "            except:\n",
    "                list_precios.append(driver.find_elements(By.CLASS_NAME, \"product-price\")[0].text.replace(\"$\",\"\").replace(\"'\",\"\").replace(\"'\",\"\"))\n",
    "        except:\n",
    "            list_precios.append(np.nan)   \n",
    "    #print(len(list_precios))\n",
    "    return list_precios\n",
    "    \n",
    "time.sleep(12)\n",
    "    \n",
    "\n",
    "def get_precio_prom():    \n",
    "    list_urls = get_urls()\n",
    "    list_precio_prom=[]\n",
    "\n",
    "    for j in list_urls:\n",
    "        driver.get(j)\n",
    "        time.sleep(8)\n",
    "        try:\n",
    "            list_precio_prom.append(driver.find_elements(By.CLASS_NAME, \"product-price.on-sale\")[0].text.replace(\"$\",\"\").replace(\"'\",\"\").replace(\"'\",\"\"))\n",
    "        \n",
    "        except:\n",
    "            list_precio_prom.append(np.nan)\n",
    "    return list_precio_prom\n",
    "    \n",
    "time.sleep(12)\n",
    "    \n",
    "def imagen(path):\n",
    "    return '<img src=\"'+ path + '\" width=\"50\" >'\n",
    "    \n",
    "def get_imagenes():\n",
    "    juguetes = get_juguetes()\n",
    "    list_urlim = []\n",
    "    for i in range(0,len(juguetes)):\n",
    "        try:\n",
    "            list_urlim.append(juguetes[i].find_element_by_tag_name(\"img\").get_attribute(\"src\"))\n",
    "        except:\n",
    "            list_urlim.append(np.nan)\n",
    "            \n",
    "    return list_urlim\n",
    "        \n",
    "    \n",
    "time.sleep(12)\n",
    "    \n",
    "def get_fecha():\n",
    "    ahora = datetime.now()\n",
    "    fecha = ahora.strftime(\"%d/%m/%Y\")\n",
    "    return fecha\n",
    "\n",
    "def Dataframe_Juguetibici(juguete):\n",
    "    get_url(juguete)\n",
    "    list_nombre =get_nombres()\n",
    "    time.sleep(12)\n",
    "    list_precios = get_precios()\n",
    "    time.sleep(12)\n",
    "    list_precio_prom = get_precio_prom()\n",
    "    time.sleep(12)\n",
    "    list_imagenes = get_imagenes()\n",
    "    time.sleep(12)\n",
    "    df_juguetibici=pd.DataFrame(columns=[\"FECHA\",\"JUGUETE\", \"AUTOSERVICIO\",\"NOMBRE\",\"PRECIO\",\"PRECIO_PROMOCION\"])\n",
    "    df_juguetibici[\"FECHA\"] = get_fecha()\n",
    "    df_juguetibici[\"AUTOSERVICIO\"] = \"Juguetibici\"\n",
    "    df_juguetibici[\"NOMBRE\"] = list_nombre\n",
    "    df_juguetibici[\"PRECIO\"] = list_precios\n",
    "    df_juguetibici[\"JUGUETE\"] = juguete\n",
    "    df_juguetibici[\"PRECIO_PROMOCION\"] = list_precio_prom\n",
    "    #df_juguetibici[\"IMAGEN\"] = list_imagenes\n",
    "    #display(HTML(df_juguetibici.to_html(escape=False,formatters=dict(IMAGEN=imagen))))    \n",
    "    \n",
    "    return df_juguetibici\n",
    "    "
   ]
  },
  {
   "cell_type": "code",
   "execution_count": 28,
   "id": "a6369ec7",
   "metadata": {},
   "outputs": [
    {
     "ename": "ValueError",
     "evalue": "Length of values (0) does not match length of index (12)",
     "output_type": "error",
     "traceback": [
      "\u001b[1;31m---------------------------------------------------------------------------\u001b[0m",
      "\u001b[1;31mValueError\u001b[0m                                Traceback (most recent call last)",
      "Input \u001b[1;32mIn [28]\u001b[0m, in \u001b[0;36m<cell line: 3>\u001b[1;34m()\u001b[0m\n\u001b[0;32m      1\u001b[0m driver \u001b[38;5;241m=\u001b[39m webdriver\u001b[38;5;241m.\u001b[39mChrome(\u001b[38;5;124m\"\u001b[39m\u001b[38;5;124mC:\u001b[39m\u001b[38;5;124m\\\u001b[39m\u001b[38;5;124mWindows\u001b[39m\u001b[38;5;124m\\\u001b[39m\u001b[38;5;124mchromedriver.exe\u001b[39m\u001b[38;5;124m\"\u001b[39m)\n\u001b[0;32m      2\u001b[0m \u001b[38;5;66;03m#juguete = \"Barbie\"\u001b[39;00m\n\u001b[1;32m----> 3\u001b[0m \u001b[43mDataframe_Juguetibici\u001b[49m\u001b[43m(\u001b[49m\u001b[38;5;124;43m\"\u001b[39;49m\u001b[38;5;124;43mBarbie\u001b[39;49m\u001b[38;5;124;43m\"\u001b[39;49m\u001b[43m)\u001b[49m\n\u001b[0;32m      4\u001b[0m \u001b[38;5;66;03m#get_url(juguete)\u001b[39;00m\n\u001b[0;32m      5\u001b[0m \u001b[38;5;66;03m#print(len(get_imagenes()))\u001b[39;00m\n\u001b[0;32m      6\u001b[0m driver\u001b[38;5;241m.\u001b[39mquit()\n",
      "Input \u001b[1;32mIn [27]\u001b[0m, in \u001b[0;36mDataframe_Juguetibici\u001b[1;34m(juguete)\u001b[0m\n\u001b[0;32m    116\u001b[0m df_juguetibici[\u001b[38;5;124m\"\u001b[39m\u001b[38;5;124mPRECIO\u001b[39m\u001b[38;5;124m\"\u001b[39m] \u001b[38;5;241m=\u001b[39m list_precios\n\u001b[0;32m    117\u001b[0m df_juguetibici[\u001b[38;5;124m\"\u001b[39m\u001b[38;5;124mJUGUETE\u001b[39m\u001b[38;5;124m\"\u001b[39m] \u001b[38;5;241m=\u001b[39m juguete\n\u001b[1;32m--> 118\u001b[0m df_juguetibici[\u001b[38;5;124m\"\u001b[39m\u001b[38;5;124mPRECIO_PROMOCION\u001b[39m\u001b[38;5;124m\"\u001b[39m] \u001b[38;5;241m=\u001b[39m list_precio_prom\n\u001b[0;32m    119\u001b[0m \u001b[38;5;66;03m#df_juguetibici[\"IMAGEN\"] = list_imagenes\u001b[39;00m\n\u001b[0;32m    120\u001b[0m \u001b[38;5;66;03m#display(HTML(df_juguetibici.to_html(escape=False,formatters=dict(IMAGEN=imagen))))    \u001b[39;00m\n\u001b[0;32m    122\u001b[0m \u001b[38;5;28;01mreturn\u001b[39;00m df_juguetibici\n",
      "File \u001b[1;32mC:\\Anacond\\lib\\site-packages\\pandas\\core\\frame.py:3655\u001b[0m, in \u001b[0;36mDataFrame.__setitem__\u001b[1;34m(self, key, value)\u001b[0m\n\u001b[0;32m   3652\u001b[0m     \u001b[38;5;28mself\u001b[39m\u001b[38;5;241m.\u001b[39m_setitem_array([key], value)\n\u001b[0;32m   3653\u001b[0m \u001b[38;5;28;01melse\u001b[39;00m:\n\u001b[0;32m   3654\u001b[0m     \u001b[38;5;66;03m# set column\u001b[39;00m\n\u001b[1;32m-> 3655\u001b[0m     \u001b[38;5;28;43mself\u001b[39;49m\u001b[38;5;241;43m.\u001b[39;49m\u001b[43m_set_item\u001b[49m\u001b[43m(\u001b[49m\u001b[43mkey\u001b[49m\u001b[43m,\u001b[49m\u001b[43m \u001b[49m\u001b[43mvalue\u001b[49m\u001b[43m)\u001b[49m\n",
      "File \u001b[1;32mC:\\Anacond\\lib\\site-packages\\pandas\\core\\frame.py:3832\u001b[0m, in \u001b[0;36mDataFrame._set_item\u001b[1;34m(self, key, value)\u001b[0m\n\u001b[0;32m   3822\u001b[0m \u001b[38;5;28;01mdef\u001b[39;00m \u001b[38;5;21m_set_item\u001b[39m(\u001b[38;5;28mself\u001b[39m, key, value) \u001b[38;5;241m-\u001b[39m\u001b[38;5;241m>\u001b[39m \u001b[38;5;28;01mNone\u001b[39;00m:\n\u001b[0;32m   3823\u001b[0m     \u001b[38;5;124;03m\"\"\"\u001b[39;00m\n\u001b[0;32m   3824\u001b[0m \u001b[38;5;124;03m    Add series to DataFrame in specified column.\u001b[39;00m\n\u001b[0;32m   3825\u001b[0m \n\u001b[1;32m   (...)\u001b[0m\n\u001b[0;32m   3830\u001b[0m \u001b[38;5;124;03m    ensure homogeneity.\u001b[39;00m\n\u001b[0;32m   3831\u001b[0m \u001b[38;5;124;03m    \"\"\"\u001b[39;00m\n\u001b[1;32m-> 3832\u001b[0m     value \u001b[38;5;241m=\u001b[39m \u001b[38;5;28;43mself\u001b[39;49m\u001b[38;5;241;43m.\u001b[39;49m\u001b[43m_sanitize_column\u001b[49m\u001b[43m(\u001b[49m\u001b[43mvalue\u001b[49m\u001b[43m)\u001b[49m\n\u001b[0;32m   3834\u001b[0m     \u001b[38;5;28;01mif\u001b[39;00m (\n\u001b[0;32m   3835\u001b[0m         key \u001b[38;5;129;01min\u001b[39;00m \u001b[38;5;28mself\u001b[39m\u001b[38;5;241m.\u001b[39mcolumns\n\u001b[0;32m   3836\u001b[0m         \u001b[38;5;129;01mand\u001b[39;00m value\u001b[38;5;241m.\u001b[39mndim \u001b[38;5;241m==\u001b[39m \u001b[38;5;241m1\u001b[39m\n\u001b[0;32m   3837\u001b[0m         \u001b[38;5;129;01mand\u001b[39;00m \u001b[38;5;129;01mnot\u001b[39;00m is_extension_array_dtype(value)\n\u001b[0;32m   3838\u001b[0m     ):\n\u001b[0;32m   3839\u001b[0m         \u001b[38;5;66;03m# broadcast across multiple columns if necessary\u001b[39;00m\n\u001b[0;32m   3840\u001b[0m         \u001b[38;5;28;01mif\u001b[39;00m \u001b[38;5;129;01mnot\u001b[39;00m \u001b[38;5;28mself\u001b[39m\u001b[38;5;241m.\u001b[39mcolumns\u001b[38;5;241m.\u001b[39mis_unique \u001b[38;5;129;01mor\u001b[39;00m \u001b[38;5;28misinstance\u001b[39m(\u001b[38;5;28mself\u001b[39m\u001b[38;5;241m.\u001b[39mcolumns, MultiIndex):\n",
      "File \u001b[1;32mC:\\Anacond\\lib\\site-packages\\pandas\\core\\frame.py:4535\u001b[0m, in \u001b[0;36mDataFrame._sanitize_column\u001b[1;34m(self, value)\u001b[0m\n\u001b[0;32m   4532\u001b[0m     \u001b[38;5;28;01mreturn\u001b[39;00m _reindex_for_setitem(value, \u001b[38;5;28mself\u001b[39m\u001b[38;5;241m.\u001b[39mindex)\n\u001b[0;32m   4534\u001b[0m \u001b[38;5;28;01mif\u001b[39;00m is_list_like(value):\n\u001b[1;32m-> 4535\u001b[0m     \u001b[43mcom\u001b[49m\u001b[38;5;241;43m.\u001b[39;49m\u001b[43mrequire_length_match\u001b[49m\u001b[43m(\u001b[49m\u001b[43mvalue\u001b[49m\u001b[43m,\u001b[49m\u001b[43m \u001b[49m\u001b[38;5;28;43mself\u001b[39;49m\u001b[38;5;241;43m.\u001b[39;49m\u001b[43mindex\u001b[49m\u001b[43m)\u001b[49m\n\u001b[0;32m   4536\u001b[0m \u001b[38;5;28;01mreturn\u001b[39;00m sanitize_array(value, \u001b[38;5;28mself\u001b[39m\u001b[38;5;241m.\u001b[39mindex, copy\u001b[38;5;241m=\u001b[39m\u001b[38;5;28;01mTrue\u001b[39;00m, allow_2d\u001b[38;5;241m=\u001b[39m\u001b[38;5;28;01mTrue\u001b[39;00m)\n",
      "File \u001b[1;32mC:\\Anacond\\lib\\site-packages\\pandas\\core\\common.py:557\u001b[0m, in \u001b[0;36mrequire_length_match\u001b[1;34m(data, index)\u001b[0m\n\u001b[0;32m    553\u001b[0m \u001b[38;5;124;03m\"\"\"\u001b[39;00m\n\u001b[0;32m    554\u001b[0m \u001b[38;5;124;03mCheck the length of data matches the length of the index.\u001b[39;00m\n\u001b[0;32m    555\u001b[0m \u001b[38;5;124;03m\"\"\"\u001b[39;00m\n\u001b[0;32m    556\u001b[0m \u001b[38;5;28;01mif\u001b[39;00m \u001b[38;5;28mlen\u001b[39m(data) \u001b[38;5;241m!=\u001b[39m \u001b[38;5;28mlen\u001b[39m(index):\n\u001b[1;32m--> 557\u001b[0m     \u001b[38;5;28;01mraise\u001b[39;00m \u001b[38;5;167;01mValueError\u001b[39;00m(\n\u001b[0;32m    558\u001b[0m         \u001b[38;5;124m\"\u001b[39m\u001b[38;5;124mLength of values \u001b[39m\u001b[38;5;124m\"\u001b[39m\n\u001b[0;32m    559\u001b[0m         \u001b[38;5;124mf\u001b[39m\u001b[38;5;124m\"\u001b[39m\u001b[38;5;124m(\u001b[39m\u001b[38;5;132;01m{\u001b[39;00m\u001b[38;5;28mlen\u001b[39m(data)\u001b[38;5;132;01m}\u001b[39;00m\u001b[38;5;124m) \u001b[39m\u001b[38;5;124m\"\u001b[39m\n\u001b[0;32m    560\u001b[0m         \u001b[38;5;124m\"\u001b[39m\u001b[38;5;124mdoes not match length of index \u001b[39m\u001b[38;5;124m\"\u001b[39m\n\u001b[0;32m    561\u001b[0m         \u001b[38;5;124mf\u001b[39m\u001b[38;5;124m\"\u001b[39m\u001b[38;5;124m(\u001b[39m\u001b[38;5;132;01m{\u001b[39;00m\u001b[38;5;28mlen\u001b[39m(index)\u001b[38;5;132;01m}\u001b[39;00m\u001b[38;5;124m)\u001b[39m\u001b[38;5;124m\"\u001b[39m\n\u001b[0;32m    562\u001b[0m     )\n",
      "\u001b[1;31mValueError\u001b[0m: Length of values (0) does not match length of index (12)"
     ]
    }
   ],
   "source": [
    "driver = webdriver.Chrome(\"C:\\Windows\\chromedriver.exe\")\n",
    "#juguete = \"Barbie\"\n",
    "Dataframe_Juguetibici(\"Barbie\")\n",
    "#get_url(juguete)\n",
    "#print(len(get_imagenes()))\n",
    "driver.quit()"
   ]
  },
  {
   "cell_type": "code",
   "execution_count": null,
   "id": "f78b343e",
   "metadata": {},
   "outputs": [],
   "source": []
  },
  {
   "cell_type": "code",
   "execution_count": null,
   "id": "0bbf062d",
   "metadata": {},
   "outputs": [],
   "source": []
  }
 ],
 "metadata": {
  "kernelspec": {
   "display_name": "Python 3 (ipykernel)",
   "language": "python",
   "name": "python3"
  },
  "language_info": {
   "codemirror_mode": {
    "name": "ipython",
    "version": 3
   },
   "file_extension": ".py",
   "mimetype": "text/x-python",
   "name": "python",
   "nbconvert_exporter": "python",
   "pygments_lexer": "ipython3",
   "version": "3.9.12"
  }
 },
 "nbformat": 4,
 "nbformat_minor": 5
}
